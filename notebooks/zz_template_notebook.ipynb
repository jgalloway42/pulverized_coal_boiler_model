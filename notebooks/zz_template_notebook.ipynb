{
 "cells": [
  {
   "cell_type": "markdown",
   "metadata": {},
   "source": [
    "## Imports"
   ]
  },
  {
   "cell_type": "code",
   "execution_count": null,
   "metadata": {},
   "outputs": [],
   "source": [
    "%load_ext autoreload\n",
    "%autoreload 2\n",
    "# add source folders to path\n",
    "import sys,os\n",
    "SRC = '..\\src'\n",
    "src_folders = list(filter(lambda x: os.path.isdir(os.path.join(SRC,x)),os.listdir(SRC)))\n",
    "[sys.path.append(os.path.join(SRC,folder)) for folder in src_folders]\n",
    "\n",
    "# import custom libraries\n",
    "from preamble import *\n",
    "from helpers import save_joblib\n",
    "\n",
    "# notebook imports\n",
    "\n",
    "# custom file paths\n",
    "\n",
    "# get data files\n",
    "files_dict = walk_directory(raw_data)"
   ]
  },
  {
   "cell_type": "markdown",
   "metadata": {},
   "source": [
    "# Notebook Title\n",
    "- Clone repo\n",
    "- Delete .git file\n",
    "- Unzip and move 'data' folder to repo root (delete data.zip)\n",
    "- Rename root folder to project name\n",
    "- Init and Push to project repo\n",
    "\n",
    "#### Miniconda Environment Command Line Setup Notes\n",
    "- conda create -n ENVNAME python=3.11\n",
    "- conda activate ENVNAME\n",
    "- python -m pip install --upgrade pip\n",
    "- pip install -r requirements.txt\n",
    "- pip freeze > requirements.txt (to save)\n",
    "\n",
    "#### Venv Environtment Command Line Setup Notes\n",
    "- Open CMD in git repository root\n",
    "- python -m venv ENVNAME (use VENV to work with .gitignore)\n",
    "- \\ENVNAME\\Scripts\\activate\n",
    "- python -m pip install --upgrade pip\n",
    "- pip install ipykernel\n",
    "- ipython kernel install --user --name=ENVNAME\n",
    "- pip install -r requirements.txt\n",
    "\n"
   ]
  },
  {
   "cell_type": "markdown",
   "metadata": {},
   "source": []
  }
 ],
 "metadata": {
  "kernelspec": {
   "display_name": "Python 3.9.7 ('base')",
   "language": "python",
   "name": "python3"
  },
  "language_info": {
   "codemirror_mode": {
    "name": "ipython",
    "version": 3
   },
   "file_extension": ".py",
   "mimetype": "text/x-python",
   "name": "python",
   "nbconvert_exporter": "python",
   "pygments_lexer": "ipython3",
   "version": "3.11.6"
  },
  "orig_nbformat": 4,
  "vscode": {
   "interpreter": {
    "hash": "44454e29e70437aac5a8cbd5d3c31aa34268c25eccd4f417141c7bc82b149a3d"
   }
  }
 },
 "nbformat": 4,
 "nbformat_minor": 2
}
